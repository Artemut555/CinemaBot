{
 "cells": [
  {
   "cell_type": "code",
   "execution_count": 148,
   "id": "d2292d81",
   "metadata": {},
   "outputs": [
    {
     "name": "stdout",
     "output_type": "stream",
     "text": [
      "\u001b[31mERROR: Could not find a version that satisfies the requirement googlesearch (from versions: none)\u001b[0m\u001b[31m\r\n",
      "\u001b[0m\u001b[31mERROR: No matching distribution found for googlesearch\u001b[0m\u001b[31m\r\n",
      "\u001b[0m\u001b[33mWARNING: There was an error checking the latest version of pip.\u001b[0m\u001b[33m\r\n",
      "\u001b[0m"
     ]
    }
   ],
   "source": [
    "!pip install googlesearch"
   ]
  },
  {
   "cell_type": "code",
   "execution_count": 208,
   "id": "dede2316",
   "metadata": {},
   "outputs": [
    {
     "name": "stdout",
     "output_type": "stream",
     "text": [
      "https://www.film.ru/movies/venom-1/online\n",
      "https://www.ivi.ru/watch/167209\n",
      "https://www.ivi.ru/watch/121569\n",
      "https://www.film.ru/movies/mstiteli-voyna-beskonechnosti-chast-1/online\n",
      "https://www.film.ru/serials/gorod-v-kotorom-menya-net\n"
     ]
    }
   ],
   "source": [
    "from bs4 import BeautifulSoup\n",
    "import requests\n",
    "\n",
    "reqs = [\"Веном (2018)\",\n",
    "        \"Остров собак (2018)\",\n",
    "        \"Магия лунного света (2014)\",\n",
    "        \"Мстители: Война бесконечности (2018)\", \n",
    "        \"Город, в котором меня нет (2016)\",\n",
    "       ]\n",
    "for req in reqs:\n",
    "    search = f\"{req} смотреть онлайн film.ru\"\n",
    "    url = 'https://www.google.com/search'\n",
    "\n",
    "    headers = {\n",
    "        'Accept' : '*/*',\n",
    "        'Accept-Language': 'ru,rus,en-US,en;q=0.5',\n",
    "        'User-Agent': 'Mozilla/5.0 (Windows NT 10.0; Win64; x64) AppleWebKit/537.36 (KHTML, like Gecko) Chrome/98.0.4758.82',\n",
    "    }\n",
    "    parameters = {'q': search}\n",
    "\n",
    "    content = requests.get(url, headers = headers, params = parameters).text\n",
    "    soup = BeautifulSoup(content, 'html.parser')\n",
    "\n",
    "    search = soup.find(id = 'search')\n",
    "    first_link = search.find('a')\n",
    "    print(first_link['href'])\n",
    "    "
   ]
  },
  {
   "cell_type": "code",
   "execution_count": 3,
   "id": "5fba2089",
   "metadata": {},
   "outputs": [],
   "source": [
    "import requests"
   ]
  },
  {
   "cell_type": "code",
   "execution_count": 141,
   "id": "82d86736",
   "metadata": {},
   "outputs": [],
   "source": [
    "token = \"3f4c3612-7b04-44e9-8a76-baa8e5837ace\"\n",
    "url = \"https://kinopoiskapiunofficial.tech/api/v2.1/films/search-by-keyword\"\n",
    "params = {\"keyword\": \"sdg:|\"}\n",
    "req = requests.get(url=url, params=params, headers={\"X-API-KEY\": token})"
   ]
  },
  {
   "cell_type": "code",
   "execution_count": 143,
   "id": "b10e87cb",
   "metadata": {},
   "outputs": [
    {
     "data": {
      "text/plain": [
       "{'keyword': 'sdg:|', 'pagesCount': 0, 'films': [], 'searchFilmsCountResult': 0}"
      ]
     },
     "execution_count": 143,
     "metadata": {},
     "output_type": "execute_result"
    }
   ],
   "source": [
    "res = req.json()\n",
    "res"
   ]
  },
  {
   "cell_type": "code",
   "execution_count": 138,
   "id": "672b6d99",
   "metadata": {},
   "outputs": [
    {
     "data": {
      "text/plain": [
       "<__main__.A at 0x7feb7846b5b0>"
      ]
     },
     "execution_count": 138,
     "metadata": {},
     "output_type": "execute_result"
    }
   ],
   "source": [
    "class B:\n",
    "    pass\n",
    "\n",
    "class A(B):\n",
    "    pass\n",
    "\n",
    "A()"
   ]
  },
  {
   "cell_type": "code",
   "execution_count": 136,
   "id": "3e77df41",
   "metadata": {},
   "outputs": [
    {
     "data": {
      "text/plain": [
       "{'filmId': 957840,\n",
       " 'nameRu': 'Город, в котором меня нет',\n",
       " 'nameEn': 'Boku dake ga inai machi',\n",
       " 'type': 'TV_SERIES',\n",
       " 'year': '2016',\n",
       " 'description': 'Жизнь мангаки нелегка. Тяжелый и кропотливый труд по достоинству вознаграждается в редких случаях. Авторские работы, в которые были вложены душа и нравоучительный посыл, не всегда достигают сердец читателей. Однажды понять, что ты пустой и скучный человек, не способный на большее — самый большой страх в жизни мангаки.\\n\\nСатору Фудзинума - тоже автор. В свои 28 он трудится не покладая рук, однако не все авторы гении, и далеко не у каждого получается выразить себя в своих работах. Множеством вопросов ежедневно задается Сатору, и боится однажды увидеть себя пустым и скучным. Но разве пустые и скучные люди могут так же ловко подмечать в своем окружении разные мелочи? Сатору может. Но признавать это в себе, то, что делает его далеко не посредственным, он не хочет. Впрочем, как и называть свой дар сверхъестественным.',\n",
       " 'filmLength': '00:25',\n",
       " 'countries': [{'country': 'Япония'}],\n",
       " 'genres': [{'genre': 'аниме'},\n",
       "  {'genre': 'драма'},\n",
       "  {'genre': 'мультфильм'},\n",
       "  {'genre': 'триллер'},\n",
       "  {'genre': 'фантастика'}],\n",
       " 'rating': '8.7',\n",
       " 'ratingVoteCount': 30888,\n",
       " 'posterUrl': 'https://kinopoiskapiunofficial.tech/images/posters/kp/957840.jpg',\n",
       " 'posterUrlPreview': 'https://kinopoiskapiunofficial.tech/images/posters/kp_small/957840.jpg'}"
      ]
     },
     "execution_count": 136,
     "metadata": {},
     "output_type": "execute_result"
    }
   ],
   "source": [
    "res['films'][0]"
   ]
  },
  {
   "cell_type": "code",
   "execution_count": null,
   "id": "18e454ef",
   "metadata": {},
   "outputs": [],
   "source": [
    "def get_kp_api_params(moive_name):\n",
    "    token = \"3f4c3612-7b04-44e9-8a76-baa8e5837ace\"\n",
    "    url = \"https://kinopoiskapiunofficial.tech/api/v2.1/films/search-by-keyword\"\n",
    "    headers={\"X-API-KEY\": token}\n",
    "    params = {\"keyword\": \"venom\"}\n",
    "    return url, headers, params"
   ]
  },
  {
   "cell_type": "code",
   "execution_count": null,
   "id": "1fee87be",
   "metadata": {},
   "outputs": [],
   "source": []
  },
  {
   "cell_type": "code",
   "execution_count": 126,
   "id": "969977cb",
   "metadata": {},
   "outputs": [],
   "source": [
    "class Movie:\n",
    "    genres: list[str] = []\n",
    "    countries: list[str] = []\n",
    "    title: str = \"\"\n",
    "    poster_url: str = \"\"\n",
    "    description: str = \"\"\n",
    "    art_type: str = \"\"\n",
    "    film_length: str = \"\"\n",
    "    link: str = \"\"\n",
    "    year: tp.Optional[int] = None\n",
    "    rating: tp.Optional[int] = None\n",
    "        \n",
    "    \n",
    "    \n",
    "\n",
    "    def __init__(self, movie_dict: dict[str, tp.Any], api: str):\n",
    "        if api == \"OMDB\":\n",
    "            self.title = movie_dict.get(\"Title\", \"\")\n",
    "            self.art_type = movie_dict.get(\"Type\", \"\")\n",
    "            self.year = movie_dict.get(\"Year\", None)\n",
    "            self.poster_url = movie_dict.get(\"Poster\", \"\")  \n",
    "        elif api == \"KP\":\n",
    "            self.title = movie_dict.get(\"nameEn\", \"\")\n",
    "            self.title = movie_dict.get(\"nameRu\", \"\")\n",
    "            self.art_type = movie_dict.get(\"type\", \"\")\n",
    "            self.year = movie_dict.get(\"year\", None)\n",
    "            self.description = movie_dict.get(\"description\", \"\")\n",
    "            self.film_length = movie_dict.get(\"filmLength\", \"\")\n",
    "#             self.countries = movie_dict.get(\"countries\", [])\n",
    "            self.countries = [country['country'] for country in movie_dict.get(\"countries\", [])]\n",
    "            self.genres = [genres['genre'] for genres in movie_dict.get(\"genres\", [])]\n",
    "#             self.genres = movie_dict.get(\"genres\", [])\n",
    "            self.rating = movie_dict.get(\"rating\", None)\n",
    "            self.poster_url = movie_dict.get(\"posterUrl\", \"\")\n",
    "            self.link = \"https://www.kinopoisk.ru/film/\" + str(movie_dict.get(\"filmId\", \"\"))\n",
    "        else:\n",
    "            assert \"Wrong api name\"\n",
    "\n",
    "    def generate_info(self) -> str:\n",
    "        title = f\"<b>{self.title} ({self.year})</b>\\n\\n\"\n",
    "        description = f\"{self.description}\\n\\n\"\n",
    "        length = f\"Длительность: {self.film_length}\\n\"\n",
    "        countries = f\"Страны: {', '.join(self.countries)}\\n\"\n",
    "        genres = f\"Жанры: {', '.join(self.genres)}\\n\"\n",
    "        rating = f\"Рейтинг: {self.rating}\\n\"\n",
    "        link = f\"\\nСмотрите здесь {self.link}\\n\"\n",
    "        info = \"\".join([title, description, length, countries, genres, rating, link])\n",
    "        return info"
   ]
  },
  {
   "cell_type": "code",
   "execution_count": 127,
   "id": "c226e586",
   "metadata": {},
   "outputs": [
    {
     "name": "stdout",
     "output_type": "stream",
     "text": [
      "<b>Веном (2018)</b>\n",
      "\n",
      "Что, если в один прекрасный день в тебя вселится симбиот, который наделит тебя сверхчеловеческими способностями? Вот только Веном — симбиот совсем недобрый, и договориться с ним невозможно. А нужно ли договариваться? Ведь в какой-то момент ты понимаешь, что быть плохим вовсе не так уж и плохо, так даже веселее. А в мире и так слишком много супергероев.\n",
      "\n",
      "Длительность: 01:52\n",
      "Страны: Китай, США\n",
      "Жанры: боевик, триллер, ужасы, фантастика\n",
      "Рейтинг: 6.9\n",
      "\n",
      "Смотрите здесь https://www.kinopoisk.ru/film/463634\n",
      "\n"
     ]
    }
   ],
   "source": [
    "movie = Movie(res['films'][0], \"KP\")\n",
    "print(movie.generate_info())"
   ]
  },
  {
   "cell_type": "code",
   "execution_count": 53,
   "id": "5a881e18",
   "metadata": {},
   "outputs": [
    {
     "data": {
      "text/plain": [
       "'1977'"
      ]
     },
     "execution_count": 53,
     "metadata": {},
     "output_type": "execute_result"
    }
   ],
   "source": [
    "movie = Movie(res[0])\n",
    "movie.year"
   ]
  },
  {
   "cell_type": "code",
   "execution_count": 61,
   "id": "ff7a6160",
   "metadata": {},
   "outputs": [],
   "source": [
    "key = \"bf6db4ee\"\n",
    "url = \"http://www.omdbapi.com\"\n",
    "page = 1\n",
    "title = \"star WaRs\"\n",
    "params = {\"apikey\": key, \"s\": title, \"page\": page}\n",
    "req = requests.get(url=url, params=params)"
   ]
  },
  {
   "cell_type": "code",
   "execution_count": null,
   "id": "22904e77",
   "metadata": {},
   "outputs": [],
   "source": []
  },
  {
   "cell_type": "code",
   "execution_count": 63,
   "id": "9ac04f65",
   "metadata": {},
   "outputs": [
    {
     "ename": "KeyError",
     "evalue": "'sf'",
     "output_type": "error",
     "traceback": [
      "\u001b[0;31m---------------------------------------------------------------------------\u001b[0m",
      "\u001b[0;31mKeyError\u001b[0m                                  Traceback (most recent call last)",
      "Input \u001b[0;32mIn [63]\u001b[0m, in \u001b[0;36m<cell line: 2>\u001b[0;34m()\u001b[0m\n\u001b[1;32m      1\u001b[0m res \u001b[38;5;241m=\u001b[39m req\u001b[38;5;241m.\u001b[39mjson()[\u001b[38;5;124m\"\u001b[39m\u001b[38;5;124mSearch\u001b[39m\u001b[38;5;124m\"\u001b[39m]\n\u001b[0;32m----> 2\u001b[0m \u001b[43mres\u001b[49m\u001b[43m[\u001b[49m\u001b[38;5;241;43m0\u001b[39;49m\u001b[43m]\u001b[49m\u001b[43m[\u001b[49m\u001b[38;5;124;43m'\u001b[39;49m\u001b[38;5;124;43msf\u001b[39;49m\u001b[38;5;124;43m'\u001b[39;49m\u001b[43m]\u001b[49m\n",
      "\u001b[0;31mKeyError\u001b[0m: 'sf'"
     ]
    }
   ],
   "source": [
    "res = req.json()[\"Search\"]\n",
    "res[0]['sf']"
   ]
  },
  {
   "cell_type": "code",
   "execution_count": 57,
   "id": "31b541c3",
   "metadata": {},
   "outputs": [
    {
     "data": {
      "text/plain": [
       "['sdf.', 'sdgg']"
      ]
     },
     "execution_count": 57,
     "metadata": {},
     "output_type": "execute_result"
    }
   ],
   "source": [
    "\"sdf.   sdgg\".split(maxsplit=1)"
   ]
  },
  {
   "cell_type": "code",
   "execution_count": 34,
   "id": "fd6f6679",
   "metadata": {},
   "outputs": [
    {
     "data": {
      "text/plain": [
       "{'Title': 'Star Wars',\n",
       " 'Year': '1977',\n",
       " 'imdbID': 'tt0076759',\n",
       " 'Type': 'movie',\n",
       " 'Poster': 'https://m.media-amazon.com/images/M/MV5BNzg4MjQxNTQtZmI5My00YjMwLWJlMjUtMmJlY2U2ZWFlNzY1XkEyXkFqcGdeQXVyODk4OTc3MTY@._V1_SX300.jpg'}"
      ]
     },
     "execution_count": 34,
     "metadata": {},
     "output_type": "execute_result"
    }
   ],
   "source": [
    "res[0]"
   ]
  },
  {
   "cell_type": "code",
   "execution_count": 36,
   "id": "52f2caaf",
   "metadata": {},
   "outputs": [],
   "source": [
    "import typing as tp"
   ]
  }
 ],
 "metadata": {
  "kernelspec": {
   "display_name": "Python 3 (ipykernel)",
   "language": "python",
   "name": "python3"
  },
  "language_info": {
   "codemirror_mode": {
    "name": "ipython",
    "version": 3
   },
   "file_extension": ".py",
   "mimetype": "text/x-python",
   "name": "python",
   "nbconvert_exporter": "python",
   "pygments_lexer": "ipython3",
   "version": "3.9.7"
  }
 },
 "nbformat": 4,
 "nbformat_minor": 5
}
